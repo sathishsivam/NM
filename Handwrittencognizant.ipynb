{
  "nbformat": 4,
  "nbformat_minor": 0,
  "metadata": {
    "colab": {
      "provenance": []
    },
    "kernelspec": {
      "name": "python3",
      "display_name": "Python 3"
    },
    "language_info": {
      "name": "python"
    }
  },
  "cells": [
    {
      "cell_type": "code",
      "source": [
        "import keras\n",
        "from keras.datasets import mnist\n",
        "from keras.models import Sequential\n",
        "from keras.layers import Dropout\n",
        "from keras.layers import Flatten\n",
        "from keras.layers import Conv2D\n",
        "from keras.layers import MaxPooling2D\n",
        "from keras import backend as K\n",
        "#  to split the data of training and testing sets\n",
        "(x_train, y_train), (x_test, y_test) = mnist.load_data()"
      ],
      "metadata": {
        "id": "UC6yEc9PvfgA"
      },
      "execution_count": null,
      "outputs": []
    },
    {
      "cell_type": "markdown",
      "source": [
        "Model cannot take the image data directly so we need to perform some basic operations and process the data to make it ready for our neural network. The dimension of the training data is (60000*28*28). One more dimension is needed for the CNN model so we reshape the matrix to shape (60000*28*28*1)."
      ],
      "metadata": {
        "id": "dyHE_PnMwEqZ"
      }
    },
    {
      "cell_type": "code",
      "source": [
        "x_train = x_train.reshape(x_train.shape[0], 28, 28, 1)\n",
        "x_test = x_test.reshape(x_test.shape[0], 28, 28, 1)\n",
        "input_shape = (28, 28, 1)\n",
        "# conversion of class vectors to matrices of  binary class \n",
        "y_train = keras.utils.to_categorical(y_train, num_classes)\n",
        "y_test = keras.utils.to_categorical(y_test, num_classes)\n",
        "x_train = x_train.astype('float32')\n",
        "x_test = x_test.astype('float32')\n",
        "x_train /= 255\n",
        "x_test /= 255"
      ],
      "metadata": {
        "id": "jfcYhqLrvkIY"
      },
      "execution_count": null,
      "outputs": []
    },
    {
      "cell_type": "code",
      "source": [],
      "metadata": {
        "id": "nndVJEcOwHLv"
      },
      "execution_count": null,
      "outputs": []
    },
    {
      "cell_type": "markdown",
      "source": [
        "Create the model\n",
        "Its time for the creation of the CNN model for this Python-based data science project. A convolutional layer and pooling layers are the two wheels of a CNN model. The reason behind the success of CNN for image classification problems is its feasibility with grid structured data. We will use the Adadelta optimizer for the model compilation"
      ],
      "metadata": {
        "id": "lX3Z0eYtwKv4"
      }
    },
    {
      "cell_type": "code",
      "source": [
        "batch_size = 128\n",
        "num_classes = 10\n",
        "epochs = 10\n",
        "model = Sequential()\n",
        "model.add(Conv2D(32, kernel_size=(3, 3),activation='relu',input_shape=input_shape))\n",
        "model.add(Conv2D(64, (3, 3), activation='relu'))\n",
        "model.add(MaxPooling2D(pool_size=(2, 2)))\n",
        "model.add(Dropout(0.25))\n",
        "model.add(Flatten())\n",
        "model.add(Dense(256, activation='relu'))\n",
        "model.add(Dropout(0.5))\n",
        "model.add(Dense(num_classes, activation='softmax'))\n",
        "model.compile(loss=keras.losses.categorical_crossentropy,optimizer=keras.optimizers.Adadelta(),metrics=['accuracy'])"
      ],
      "metadata": {
        "id": "RQPB4uZAwLBf"
      },
      "execution_count": null,
      "outputs": []
    },
    {
      "cell_type": "code",
      "source": [],
      "metadata": {
        "id": "fv_VT6UMwNm_"
      },
      "execution_count": null,
      "outputs": []
    },
    {
      "cell_type": "markdown",
      "source": [
        "Train the model\n",
        "To start the training of the model we can simply call the model.fit() function of Keras. It takes the training data, validation data, epochs, and batch size as the parameter.\n",
        "\n",
        "The training of model takes some time. After succesful model training, we can save the weights and model definition in the ‘mnist.h5’ file."
      ],
      "metadata": {
        "id": "dKKeZmwWwRGA"
      }
    },
    {
      "cell_type": "code",
      "source": [
        "hist = model.fit(x_train, y_train,batch_size=batch_size,epochs=epochs,verbose=1,validation_data=(x_test, y_test))\n",
        "print(\"The model has successfully trained\")\n",
        "model.save('mnist.h5')\n",
        "print(\"Saving the bot as mnist.h5\")"
      ],
      "metadata": {
        "colab": {
          "base_uri": "https://localhost:8080/"
        },
        "id": "OnaVp114wRbP",
        "outputId": "25ca0588-f68d-4574-cfbd-15c2c1a6d055"
      },
      "execution_count": null,
      "outputs": [
        {
          "output_type": "stream",
          "name": "stdout",
          "text": [
            "Epoch 1/10\n",
            "469/469 [==============================] - 184s 389ms/step - loss: 2.2721 - accuracy: 0.1626 - val_loss: 2.2120 - val_accuracy: 0.4044\n",
            "Epoch 2/10\n",
            "469/469 [==============================] - 184s 391ms/step - loss: 2.1783 - accuracy: 0.3249 - val_loss: 2.0986 - val_accuracy: 0.6237\n",
            "Epoch 3/10\n",
            "469/469 [==============================] - 191s 406ms/step - loss: 2.0586 - accuracy: 0.4574 - val_loss: 1.9456 - val_accuracy: 0.6991\n",
            "Epoch 4/10\n",
            "469/469 [==============================] - 188s 401ms/step - loss: 1.8943 - accuracy: 0.5527 - val_loss: 1.7387 - val_accuracy: 0.7409\n",
            "Epoch 5/10\n",
            "469/469 [==============================] - 181s 386ms/step - loss: 1.6882 - accuracy: 0.6149 - val_loss: 1.4843 - val_accuracy: 0.7697\n",
            "Epoch 6/10\n",
            "469/469 [==============================] - 180s 384ms/step - loss: 1.4569 - accuracy: 0.6539 - val_loss: 1.2216 - val_accuracy: 0.7954\n",
            "Epoch 7/10\n",
            "469/469 [==============================] - 179s 382ms/step - loss: 1.2413 - accuracy: 0.6860 - val_loss: 0.9990 - val_accuracy: 0.8173\n",
            "Epoch 8/10\n",
            "469/469 [==============================] - 183s 389ms/step - loss: 1.0775 - accuracy: 0.7104 - val_loss: 0.8372 - val_accuracy: 0.8295\n",
            "Epoch 9/10\n",
            "469/469 [==============================] - 183s 390ms/step - loss: 0.9524 - accuracy: 0.7349 - val_loss: 0.7240 - val_accuracy: 0.8419\n",
            "Epoch 10/10\n",
            "469/469 [==============================] - 179s 381ms/step - loss: 0.8642 - accuracy: 0.7495 - val_loss: 0.6440 - val_accuracy: 0.8508\n",
            "The model has successfully trained\n",
            "Saving the bot as mnist.h5\n"
          ]
        }
      ]
    },
    {
      "cell_type": "code",
      "source": [],
      "metadata": {
        "id": "NCYFCGcywTf_"
      },
      "execution_count": null,
      "outputs": []
    },
    {
      "cell_type": "markdown",
      "source": [
        "Evaluate the model\n",
        "To evaluate how accurate our model works, we have around 10,000 images in our dataset. In the training of the data model, we do not include the testing data that’s why it is new data for our model. Around 99% accuracy is achieved with this well-balanced MNIST dataset."
      ],
      "metadata": {
        "id": "NC10zI9T7h-G"
      }
    },
    {
      "cell_type": "code",
      "source": [
        "score = model.evaluate(x_test, y_test, verbose=0)\n",
        "print('Test loss:', score[0])\n",
        "print('Test accuracy:', score[1])"
      ],
      "metadata": {
        "colab": {
          "base_uri": "https://localhost:8080/"
        },
        "id": "e5wR8Go77ihF",
        "outputId": "bb862dab-85fc-4613-aef1-5457e6effde9"
      },
      "execution_count": null,
      "outputs": [
        {
          "output_type": "stream",
          "name": "stdout",
          "text": [
            "Test loss: 0.6440019011497498\n",
            "Test accuracy: 0.8507999777793884\n"
          ]
        }
      ]
    },
    {
      "cell_type": "code",
      "source": [],
      "metadata": {
        "id": "ylfBTVD78FH0"
      },
      "execution_count": null,
      "outputs": []
    }
  ]
}